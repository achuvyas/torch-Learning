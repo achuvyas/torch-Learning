{
 "cells": [
  {
   "cell_type": "code",
   "execution_count": 2,
   "id": "6914b5ba",
   "metadata": {},
   "outputs": [],
   "source": [
    "import numpy as np\n",
    "from sklearn.datasets import load_digits\n",
    "from sklearn.neural_network import MLPClassifier"
   ]
  },
  {
   "cell_type": "code",
   "execution_count": 20,
   "id": "5c8fc91f",
   "metadata": {},
   "outputs": [
    {
     "data": {
      "text/plain": [
       "array([0, 1, 2, ..., 8, 9, 8])"
      ]
     },
     "execution_count": 20,
     "metadata": {},
     "output_type": "execute_result"
    }
   ],
   "source": [
    "d = load_digits()\n",
    "digits = d[\"data\"] \n",
    "labels = d[\"target\"]\n",
    "\n",
    "labels"
   ]
  },
  {
   "cell_type": "code",
   "execution_count": 22,
   "id": "525b76bd",
   "metadata": {},
   "outputs": [],
   "source": [
    "N = 200\n",
    "idx = np.argsort(np.random.random(len(labels)))\n",
    "x_test, y_test = digits[idx[:N]], labels[idx[:N]]\n",
    "x_train, y_train = digits[idx[N:]], labels[idx[N:]]"
   ]
  },
  {
   "cell_type": "markdown",
   "id": "916183b6",
   "metadata": {},
   "source": [
    "clf = MLPClassifier(hidden_layer_sizes=(128,)) clf.fit(x_train, y_train)\n",
    "score = clf.score(x_test, y_test)\n",
    "pred = clf.predict(x_test)\n",
    "err = np.where(y_test != pred)[0]\n",
    "print(\"score      : \", score)\n",
    "print(\"errors:\")\n",
    "print(\"  actual   : \", y_test[err])\n",
    "print(\"  predicted: \", pred[err])"
   ]
  },
  {
   "cell_type": "code",
   "execution_count": 30,
   "id": "6e9921a9",
   "metadata": {},
   "outputs": [
    {
     "name": "stdout",
     "output_type": "stream",
     "text": [
      "score      :  0.975\n",
      "errors:\n",
      "  actual   :  [3 5 3 1 8]\n",
      "  predicted:  [2 6 8 9 1]\n"
     ]
    }
   ],
   "source": [
    "clf = MLPClassifier(hidden_layer_sizes=(128,)) \n",
    "clf.fit(x_train, y_train)\n",
    "score = clf.score(x_test, y_test)\n",
    "pred = clf.predict(x_test)\n",
    "err = np.where(y_test != pred)[0]\n",
    "print(\"score      : \", score)\n",
    "print(\"errors:\")\n",
    "print(\"  actual   : \", y_test[err])\n",
    "print(\"  predicted: \", pred[err])"
   ]
  },
  {
   "cell_type": "code",
   "execution_count": null,
   "id": "0b106be3",
   "metadata": {},
   "outputs": [],
   "source": []
  },
  {
   "cell_type": "code",
   "execution_count": null,
   "id": "47c914e6",
   "metadata": {},
   "outputs": [],
   "source": []
  }
 ],
 "metadata": {
  "kernelspec": {
   "display_name": "Python 3 (ipykernel)",
   "language": "python",
   "name": "python3"
  },
  "language_info": {
   "codemirror_mode": {
    "name": "ipython",
    "version": 3
   },
   "file_extension": ".py",
   "mimetype": "text/x-python",
   "name": "python",
   "nbconvert_exporter": "python",
   "pygments_lexer": "ipython3",
   "version": "3.11.5"
  }
 },
 "nbformat": 4,
 "nbformat_minor": 5
}
